{
  "cells": [
    {
      "cell_type": "markdown",
      "metadata": {
        "id": "view-in-github",
        "colab_type": "text"
      },
      "source": [
        "<a href=\"https://colab.research.google.com/github/Shivachikkonda02/Deep-Learning-CNN-Project/blob/main/CNN%20Project%20Fashion%20MNIST%20Classification.ipynb\" target=\"_parent\"><img src=\"https://colab.research.google.com/assets/colab-badge.svg\" alt=\"Open In Colab\"/></a>"
      ]
    },
    {
      "cell_type": "code",
      "source": [
        "import numpy as np\n",
        "import matplotlib.pyplot as plt\n",
        "import seaborn as sns\n",
        "\n",
        "import keras"
      ],
      "metadata": {
        "id": "ckhZzvvEFxul"
      },
      "execution_count": 67,
      "outputs": []
    },
    {
      "cell_type": "code",
      "source": [
        "# Load Data\n",
        "\n",
        "(X_train,y_train),(X_test,y_test)=keras.datasets.fashion_mnist.load_data()"
      ],
      "metadata": {
        "id": "2HYBdgkfFx8H"
      },
      "execution_count": 68,
      "outputs": []
    },
    {
      "cell_type": "code",
      "source": [
        "print(X_train.shape, y_train.shape)"
      ],
      "metadata": {
        "id": "4koem4CYGt62",
        "outputId": "62af5862-6bc4-4c5d-b9ba-f2ff73c3e8e5",
        "colab": {
          "base_uri": "https://localhost:8080/"
        }
      },
      "execution_count": 69,
      "outputs": [
        {
          "output_type": "stream",
          "name": "stdout",
          "text": [
            "(60000, 28, 28) (60000,)\n"
          ]
        }
      ]
    },
    {
      "cell_type": "code",
      "source": [
        "print(X_test.shape , y_test.shape)"
      ],
      "metadata": {
        "id": "rDtM17jDG3Wi",
        "outputId": "477d1ea3-ae7b-4859-e665-056d2ee522a2",
        "colab": {
          "base_uri": "https://localhost:8080/"
        }
      },
      "execution_count": 70,
      "outputs": [
        {
          "output_type": "stream",
          "name": "stdout",
          "text": [
            "(10000, 28, 28) (10000,)\n"
          ]
        }
      ]
    },
    {
      "cell_type": "code",
      "source": [
        "X_train"
      ],
      "metadata": {
        "id": "c4_lG353HBVV",
        "outputId": "6899a59e-7acb-4e80-a451-30fd68ee2ba5",
        "colab": {
          "base_uri": "https://localhost:8080/"
        }
      },
      "execution_count": 71,
      "outputs": [
        {
          "output_type": "execute_result",
          "data": {
            "text/plain": [
              "array([[[0, 0, 0, ..., 0, 0, 0],\n",
              "        [0, 0, 0, ..., 0, 0, 0],\n",
              "        [0, 0, 0, ..., 0, 0, 0],\n",
              "        ...,\n",
              "        [0, 0, 0, ..., 0, 0, 0],\n",
              "        [0, 0, 0, ..., 0, 0, 0],\n",
              "        [0, 0, 0, ..., 0, 0, 0]],\n",
              "\n",
              "       [[0, 0, 0, ..., 0, 0, 0],\n",
              "        [0, 0, 0, ..., 0, 0, 0],\n",
              "        [0, 0, 0, ..., 0, 0, 0],\n",
              "        ...,\n",
              "        [0, 0, 0, ..., 0, 0, 0],\n",
              "        [0, 0, 0, ..., 0, 0, 0],\n",
              "        [0, 0, 0, ..., 0, 0, 0]],\n",
              "\n",
              "       [[0, 0, 0, ..., 0, 0, 0],\n",
              "        [0, 0, 0, ..., 0, 0, 0],\n",
              "        [0, 0, 0, ..., 0, 0, 0],\n",
              "        ...,\n",
              "        [0, 0, 0, ..., 0, 0, 0],\n",
              "        [0, 0, 0, ..., 0, 0, 0],\n",
              "        [0, 0, 0, ..., 0, 0, 0]],\n",
              "\n",
              "       ...,\n",
              "\n",
              "       [[0, 0, 0, ..., 0, 0, 0],\n",
              "        [0, 0, 0, ..., 0, 0, 0],\n",
              "        [0, 0, 0, ..., 0, 0, 0],\n",
              "        ...,\n",
              "        [0, 0, 0, ..., 0, 0, 0],\n",
              "        [0, 0, 0, ..., 0, 0, 0],\n",
              "        [0, 0, 0, ..., 0, 0, 0]],\n",
              "\n",
              "       [[0, 0, 0, ..., 0, 0, 0],\n",
              "        [0, 0, 0, ..., 0, 0, 0],\n",
              "        [0, 0, 0, ..., 0, 0, 0],\n",
              "        ...,\n",
              "        [0, 0, 0, ..., 0, 0, 0],\n",
              "        [0, 0, 0, ..., 0, 0, 0],\n",
              "        [0, 0, 0, ..., 0, 0, 0]],\n",
              "\n",
              "       [[0, 0, 0, ..., 0, 0, 0],\n",
              "        [0, 0, 0, ..., 0, 0, 0],\n",
              "        [0, 0, 0, ..., 0, 0, 0],\n",
              "        ...,\n",
              "        [0, 0, 0, ..., 0, 0, 0],\n",
              "        [0, 0, 0, ..., 0, 0, 0],\n",
              "        [0, 0, 0, ..., 0, 0, 0]]], dtype=uint8)"
            ]
          },
          "metadata": {},
          "execution_count": 71
        }
      ]
    },
    {
      "cell_type": "code",
      "source": [
        "type(X_train)"
      ],
      "metadata": {
        "id": "grZtWXvDHLGi",
        "outputId": "3f50c4ee-5664-4fd4-8ea5-5740adcf721a",
        "colab": {
          "base_uri": "https://localhost:8080/"
        }
      },
      "execution_count": 72,
      "outputs": [
        {
          "output_type": "execute_result",
          "data": {
            "text/plain": [
              "numpy.ndarray"
            ]
          },
          "metadata": {},
          "execution_count": 72
        }
      ]
    },
    {
      "cell_type": "code",
      "source": [
        "X_train[0]"
      ],
      "metadata": {
        "id": "yFOQy2BxHUSn",
        "outputId": "cf856a34-5b84-40a1-da91-17ccdbc167d2",
        "colab": {
          "base_uri": "https://localhost:8080/",
          "height": 68
        }
      },
      "execution_count": 73,
      "outputs": [
        {
          "output_type": "execute_result",
          "data": {
            "text/plain": [
              "array([[  0,   0,   0,   0,   0,   0,   0,   0,   0,   0,   0,   0,   0,\n",
              "          0,   0,   0,   0,   0,   0,   0,   0,   0,   0,   0,   0,   0,\n",
              "          0,   0],\n",
              "       [  0,   0,   0,   0,   0,   0,   0,   0,   0,   0,   0,   0,   0,\n",
              "          0,   0,   0,   0,   0,   0,   0,   0,   0,   0,   0,   0,   0,\n",
              "          0,   0],\n",
              "       [  0,   0,   0,   0,   0,   0,   0,   0,   0,   0,   0,   0,   0,\n",
              "          0,   0,   0,   0,   0,   0,   0,   0,   0,   0,   0,   0,   0,\n",
              "          0,   0],\n",
              "       [  0,   0,   0,   0,   0,   0,   0,   0,   0,   0,   0,   0,   1,\n",
              "          0,   0,  13,  73,   0,   0,   1,   4,   0,   0,   0,   0,   1,\n",
              "          1,   0],\n",
              "       [  0,   0,   0,   0,   0,   0,   0,   0,   0,   0,   0,   0,   3,\n",
              "          0,  36, 136, 127,  62,  54,   0,   0,   0,   1,   3,   4,   0,\n",
              "          0,   3],\n",
              "       [  0,   0,   0,   0,   0,   0,   0,   0,   0,   0,   0,   0,   6,\n",
              "          0, 102, 204, 176, 134, 144, 123,  23,   0,   0,   0,   0,  12,\n",
              "         10,   0],\n",
              "       [  0,   0,   0,   0,   0,   0,   0,   0,   0,   0,   0,   0,   0,\n",
              "          0, 155, 236, 207, 178, 107, 156, 161, 109,  64,  23,  77, 130,\n",
              "         72,  15],\n",
              "       [  0,   0,   0,   0,   0,   0,   0,   0,   0,   0,   0,   1,   0,\n",
              "         69, 207, 223, 218, 216, 216, 163, 127, 121, 122, 146, 141,  88,\n",
              "        172,  66],\n",
              "       [  0,   0,   0,   0,   0,   0,   0,   0,   0,   1,   1,   1,   0,\n",
              "        200, 232, 232, 233, 229, 223, 223, 215, 213, 164, 127, 123, 196,\n",
              "        229,   0],\n",
              "       [  0,   0,   0,   0,   0,   0,   0,   0,   0,   0,   0,   0,   0,\n",
              "        183, 225, 216, 223, 228, 235, 227, 224, 222, 224, 221, 223, 245,\n",
              "        173,   0],\n",
              "       [  0,   0,   0,   0,   0,   0,   0,   0,   0,   0,   0,   0,   0,\n",
              "        193, 228, 218, 213, 198, 180, 212, 210, 211, 213, 223, 220, 243,\n",
              "        202,   0],\n",
              "       [  0,   0,   0,   0,   0,   0,   0,   0,   0,   1,   3,   0,  12,\n",
              "        219, 220, 212, 218, 192, 169, 227, 208, 218, 224, 212, 226, 197,\n",
              "        209,  52],\n",
              "       [  0,   0,   0,   0,   0,   0,   0,   0,   0,   0,   6,   0,  99,\n",
              "        244, 222, 220, 218, 203, 198, 221, 215, 213, 222, 220, 245, 119,\n",
              "        167,  56],\n",
              "       [  0,   0,   0,   0,   0,   0,   0,   0,   0,   4,   0,   0,  55,\n",
              "        236, 228, 230, 228, 240, 232, 213, 218, 223, 234, 217, 217, 209,\n",
              "         92,   0],\n",
              "       [  0,   0,   1,   4,   6,   7,   2,   0,   0,   0,   0,   0, 237,\n",
              "        226, 217, 223, 222, 219, 222, 221, 216, 223, 229, 215, 218, 255,\n",
              "         77,   0],\n",
              "       [  0,   3,   0,   0,   0,   0,   0,   0,   0,  62, 145, 204, 228,\n",
              "        207, 213, 221, 218, 208, 211, 218, 224, 223, 219, 215, 224, 244,\n",
              "        159,   0],\n",
              "       [  0,   0,   0,   0,  18,  44,  82, 107, 189, 228, 220, 222, 217,\n",
              "        226, 200, 205, 211, 230, 224, 234, 176, 188, 250, 248, 233, 238,\n",
              "        215,   0],\n",
              "       [  0,  57, 187, 208, 224, 221, 224, 208, 204, 214, 208, 209, 200,\n",
              "        159, 245, 193, 206, 223, 255, 255, 221, 234, 221, 211, 220, 232,\n",
              "        246,   0],\n",
              "       [  3, 202, 228, 224, 221, 211, 211, 214, 205, 205, 205, 220, 240,\n",
              "         80, 150, 255, 229, 221, 188, 154, 191, 210, 204, 209, 222, 228,\n",
              "        225,   0],\n",
              "       [ 98, 233, 198, 210, 222, 229, 229, 234, 249, 220, 194, 215, 217,\n",
              "        241,  65,  73, 106, 117, 168, 219, 221, 215, 217, 223, 223, 224,\n",
              "        229,  29],\n",
              "       [ 75, 204, 212, 204, 193, 205, 211, 225, 216, 185, 197, 206, 198,\n",
              "        213, 240, 195, 227, 245, 239, 223, 218, 212, 209, 222, 220, 221,\n",
              "        230,  67],\n",
              "       [ 48, 203, 183, 194, 213, 197, 185, 190, 194, 192, 202, 214, 219,\n",
              "        221, 220, 236, 225, 216, 199, 206, 186, 181, 177, 172, 181, 205,\n",
              "        206, 115],\n",
              "       [  0, 122, 219, 193, 179, 171, 183, 196, 204, 210, 213, 207, 211,\n",
              "        210, 200, 196, 194, 191, 195, 191, 198, 192, 176, 156, 167, 177,\n",
              "        210,  92],\n",
              "       [  0,   0,  74, 189, 212, 191, 175, 172, 175, 181, 185, 188, 189,\n",
              "        188, 193, 198, 204, 209, 210, 210, 211, 188, 188, 194, 192, 216,\n",
              "        170,   0],\n",
              "       [  2,   0,   0,   0,  66, 200, 222, 237, 239, 242, 246, 243, 244,\n",
              "        221, 220, 193, 191, 179, 182, 182, 181, 176, 166, 168,  99,  58,\n",
              "          0,   0],\n",
              "       [  0,   0,   0,   0,   0,   0,   0,  40,  61,  44,  72,  41,  35,\n",
              "          0,   0,   0,   0,   0,   0,   0,   0,   0,   0,   0,   0,   0,\n",
              "          0,   0],\n",
              "       [  0,   0,   0,   0,   0,   0,   0,   0,   0,   0,   0,   0,   0,\n",
              "          0,   0,   0,   0,   0,   0,   0,   0,   0,   0,   0,   0,   0,\n",
              "          0,   0],\n",
              "       [  0,   0,   0,   0,   0,   0,   0,   0,   0,   0,   0,   0,   0,\n",
              "          0,   0,   0,   0,   0,   0,   0,   0,   0,   0,   0,   0,   0,\n",
              "          0,   0]], dtype=uint8)"
            ],
            "text/html": [
              "<style>\n",
              "      .ndarray_repr .ndarray_raw_data {\n",
              "        display: none;\n",
              "      }\n",
              "      .ndarray_repr.show_array .ndarray_raw_data {\n",
              "        display: block;\n",
              "      }\n",
              "      .ndarray_repr.show_array .ndarray_image_preview {\n",
              "        display: none;\n",
              "      }\n",
              "      </style>\n",
              "      <div id=\"id-913fc43f-893a-4108-a659-c269d5097bc5\" class=\"ndarray_repr\"><pre>ndarray (28, 28) <button style=\"padding: 0 2px;\">show data</button></pre><img src=\"data:image/png;base64,iVBORw0KGgoAAAANSUhEUgAAABwAAAAcCAAAAABXZoBIAAACBUlEQVR4nLXSz0tUURQH8O+597373rx545g6NmNJY6TlJgozEsKFZGCrkDBoVdGmdf9BiwJ3bVr1PwhBUbQfJQcKjWZRTsjo0KDpDPV+eN+997WK0Z2bvtsPfM+Bc4D/HwJycwBZAEAE6zAyfe5RFMQfFYiRAj+CXM/c2HK82VetVMM34RGUmCxz9v7yYnW9dnWyskyHR6azi72Jwep3ScVk9c7LLhKQrpRBSiI2n76puZFT3doUwH4pcmw/zpjrU2zw3dFt4XEWdvbKhpinzTBYt5bDH4qlLYO8cbKBWHOudDHluFtiLrLD0kmM2//6q9VFS+JLLDxv9GzMPV9v3XuzYgHEGSUGCngbRCLd4W6CxPCLHTDwVMkDA0y/qEa/lFFBoF2EEME8CAD6hsZK8+djlmSatuiXXsWfNh27NU6Yelro1bytPElRbaGaO1FGPfc7zPg9HvHlIaVD8AjID9y/+bgZ/6iP9ks7J/QZevh8w/cd2PlGs8CKt92R7MQEk0yA7GtWq9ETN3zRs7fpR7FaWi/3yXaipW1IjFnbaSM70N7dsRzbzbHd8aCx7+wmKskUO5esz0sPmvXYF67gBzoNfxptxb5stxM10iLg1pOTO23NhcUptW1hE6gFYYprC8QMMPNsMM+4pamVbps/HGkSsg+1Cv4d+0Jh//Sm3DjGix4rfwFoJNh2/0cDFgAAAABJRU5ErkJggg==\" class=\"ndarray_image_preview\" /><pre class=\"ndarray_raw_data\">array([[  0,   0,   0,   0,   0,   0,   0,   0,   0,   0,   0,   0,   0,\n",
              "          0,   0,   0,   0,   0,   0,   0,   0,   0,   0,   0,   0,   0,\n",
              "          0,   0],\n",
              "       [  0,   0,   0,   0,   0,   0,   0,   0,   0,   0,   0,   0,   0,\n",
              "          0,   0,   0,   0,   0,   0,   0,   0,   0,   0,   0,   0,   0,\n",
              "          0,   0],\n",
              "       [  0,   0,   0,   0,   0,   0,   0,   0,   0,   0,   0,   0,   0,\n",
              "          0,   0,   0,   0,   0,   0,   0,   0,   0,   0,   0,   0,   0,\n",
              "          0,   0],\n",
              "       [  0,   0,   0,   0,   0,   0,   0,   0,   0,   0,   0,   0,   1,\n",
              "          0,   0,  13,  73,   0,   0,   1,   4,   0,   0,   0,   0,   1,\n",
              "          1,   0],\n",
              "       [  0,   0,   0,   0,   0,   0,   0,   0,   0,   0,   0,   0,   3,\n",
              "          0,  36, 136, 127,  62,  54,   0,   0,   0,   1,   3,   4,   0,\n",
              "          0,   3],\n",
              "       [  0,   0,   0,   0,   0,   0,   0,   0,   0,   0,   0,   0,   6,\n",
              "          0, 102, 204, 176, 134, 144, 123,  23,   0,   0,   0,   0,  12,\n",
              "         10,   0],\n",
              "       [  0,   0,   0,   0,   0,   0,   0,   0,   0,   0,   0,   0,   0,\n",
              "          0, 155, 236, 207, 178, 107, 156, 161, 109,  64,  23,  77, 130,\n",
              "         72,  15],\n",
              "       [  0,   0,   0,   0,   0,   0,   0,   0,   0,   0,   0,   1,   0,\n",
              "         69, 207, 223, 218, 216, 216, 163, 127, 121, 122, 146, 141,  88,\n",
              "        172,  66],\n",
              "       [  0,   0,   0,   0,   0,   0,   0,   0,   0,   1,   1,   1,   0,\n",
              "        200, 232, 232, 233, 229, 223, 223, 215, 213, 164, 127, 123, 196,\n",
              "        229,   0],\n",
              "       [  0,   0,   0,   0,   0,   0,   0,   0,   0,   0,   0,   0,   0,\n",
              "        183, 225, 216, 223, 228, 235, 227, 224, 222, 224, 221, 223, 245,\n",
              "        173,   0],\n",
              "       [  0,   0,   0,   0,   0,   0,   0,   0,   0,   0,   0,   0,   0,\n",
              "        193, 228, 218, 213, 198, 180, 212, 210, 211, 213, 223, 220, 243,\n",
              "        202,   0],\n",
              "       [  0,   0,   0,   0,   0,   0,   0,   0,   0,   1,   3,   0,  12,\n",
              "        219, 220, 212, 218, 192, 169, 227, 208, 218, 224, 212, 226, 197,\n",
              "        209,  52],\n",
              "       [  0,   0,   0,   0,   0,   0,   0,   0,   0,   0,   6,   0,  99,\n",
              "        244, 222, 220, 218, 203, 198, 221, 215, 213, 222, 220, 245, 119,\n",
              "        167,  56],\n",
              "       [  0,   0,   0,   0,   0,   0,   0,   0,   0,   4,   0,   0,  55,\n",
              "        236, 228, 230, 228, 240, 232, 213, 218, 223, 234, 217, 217, 209,\n",
              "         92,   0],\n",
              "       [  0,   0,   1,   4,   6,   7,   2,   0,   0,   0,   0,   0, 237,\n",
              "        226, 217, 223, 222, 219, 222, 221, 216, 223, 229, 215, 218, 255,\n",
              "         77,   0],\n",
              "       [  0,   3,   0,   0,   0,   0,   0,   0,   0,  62, 145, 204, 228,\n",
              "        207, 213, 221, 218, 208, 211, 218, 224, 223, 219, 215, 224, 244,\n",
              "        159,   0],\n",
              "       [  0,   0,   0,   0,  18,  44,  82, 107, 189, 228, 220, 222, 217,\n",
              "        226, 200, 205, 211, 230, 224, 234, 176, 188, 250, 248, 233, 238,\n",
              "        215,   0],\n",
              "       [  0,  57, 187, 208, 224, 221, 224, 208, 204, 214, 208, 209, 200,\n",
              "        159, 245, 193, 206, 223, 255, 255, 221, 234, 221, 211, 220, 232,\n",
              "        246,   0],\n",
              "       [  3, 202, 228, 224, 221, 211, 211, 214, 205, 205, 205, 220, 240,\n",
              "         80, 150, 255, 229, 221, 188, 154, 191, 210, 204, 209, 222, 228,\n",
              "        225,   0],\n",
              "       [ 98, 233, 198, 210, 222, 229, 229, 234, 249, 220, 194, 215, 217,\n",
              "        241,  65,  73, 106, 117, 168, 219, 221, 215, 217, 223, 223, 224,\n",
              "        229,  29],\n",
              "       [ 75, 204, 212, 204, 193, 205, 211, 225, 216, 185, 197, 206, 198,\n",
              "        213, 240, 195, 227, 245, 239, 223, 218, 212, 209, 222, 220, 221,\n",
              "        230,  67],\n",
              "       [ 48, 203, 183, 194, 213, 197, 185, 190, 194, 192, 202, 214, 219,\n",
              "        221, 220, 236, 225, 216, 199, 206, 186, 181, 177, 172, 181, 205,\n",
              "        206, 115],\n",
              "       [  0, 122, 219, 193, 179, 171, 183, 196, 204, 210, 213, 207, 211,\n",
              "        210, 200, 196, 194, 191, 195, 191, 198, 192, 176, 156, 167, 177,\n",
              "        210,  92],\n",
              "       [  0,   0,  74, 189, 212, 191, 175, 172, 175, 181, 185, 188, 189,\n",
              "        188, 193, 198, 204, 209, 210, 210, 211, 188, 188, 194, 192, 216,\n",
              "        170,   0],\n",
              "       [  2,   0,   0,   0,  66, 200, 222, 237, 239, 242, 246, 243, 244,\n",
              "        221, 220, 193, 191, 179, 182, 182, 181, 176, 166, 168,  99,  58,\n",
              "          0,   0],\n",
              "       [  0,   0,   0,   0,   0,   0,   0,  40,  61,  44,  72,  41,  35,\n",
              "          0,   0,   0,   0,   0,   0,   0,   0,   0,   0,   0,   0,   0,\n",
              "          0,   0],\n",
              "       [  0,   0,   0,   0,   0,   0,   0,   0,   0,   0,   0,   0,   0,\n",
              "          0,   0,   0,   0,   0,   0,   0,   0,   0,   0,   0,   0,   0,\n",
              "          0,   0],\n",
              "       [  0,   0,   0,   0,   0,   0,   0,   0,   0,   0,   0,   0,   0,\n",
              "          0,   0,   0,   0,   0,   0,   0,   0,   0,   0,   0,   0,   0,\n",
              "          0,   0]], dtype=uint8)</pre></div><script>\n",
              "      (() => {\n",
              "      const titles = ['show data', 'hide data'];\n",
              "      let index = 0\n",
              "      document.querySelector('#id-913fc43f-893a-4108-a659-c269d5097bc5 button').onclick = (e) => {\n",
              "        document.querySelector('#id-913fc43f-893a-4108-a659-c269d5097bc5').classList.toggle('show_array');\n",
              "        index = (++index) % 2;\n",
              "        document.querySelector('#id-913fc43f-893a-4108-a659-c269d5097bc5 button').textContent = titles[index];\n",
              "        e.preventDefault();\n",
              "        e.stopPropagation();\n",
              "      }\n",
              "      })();\n",
              "    </script>"
            ]
          },
          "metadata": {},
          "execution_count": 73
        }
      ]
    },
    {
      "cell_type": "code",
      "source": [
        "y_train[0]"
      ],
      "metadata": {
        "id": "J9P2rdRcHcBA",
        "outputId": "8cdd85b0-b88f-4703-c097-df70c9becc77",
        "colab": {
          "base_uri": "https://localhost:8080/"
        }
      },
      "execution_count": 74,
      "outputs": [
        {
          "output_type": "execute_result",
          "data": {
            "text/plain": [
              "9"
            ]
          },
          "metadata": {},
          "execution_count": 74
        }
      ]
    },
    {
      "cell_type": "code",
      "source": [
        "# Show Image\n",
        "\n",
        "plt.imshow(X_train[0])\n"
      ],
      "metadata": {
        "id": "vBCqkjKaHqWu",
        "outputId": "1b0dc4f5-2991-4148-8c1c-81efdbe6ff0c",
        "colab": {
          "base_uri": "https://localhost:8080/",
          "height": 448
        }
      },
      "execution_count": 75,
      "outputs": [
        {
          "output_type": "execute_result",
          "data": {
            "text/plain": [
              "<matplotlib.image.AxesImage at 0x786499395cf0>"
            ]
          },
          "metadata": {},
          "execution_count": 75
        },
        {
          "output_type": "display_data",
          "data": {
            "text/plain": [
              "<Figure size 640x480 with 1 Axes>"
            ],
            "image/png": "[encoded data removed]"
          },
          "metadata": {}
        }
      ]
    },
    {
      "cell_type": "code",
      "source": [
        "plt.imshow(X_train[0] , cmap='Greys' )"
      ],
      "metadata": {
        "id": "r5Ij9mHTITSZ",
        "outputId": "a21a7ac4-f7ae-4b25-8f08-54ea93bb5d52",
        "colab": {
          "base_uri": "https://localhost:8080/",
          "height": 448
        }
      },
      "execution_count": 76,
      "outputs": [
        {
          "output_type": "execute_result",
          "data": {
            "text/plain": [
              "<matplotlib.image.AxesImage at 0x786498929de0>"
            ]
          },
          "metadata": {},
          "execution_count": 76
        },
        {
          "output_type": "display_data",
          "data": {
            "text/plain": [
              "<Figure size 640x480 with 1 Axes>"
            ],
            "image/png": "[encoded data removed]"
          },
          "metadata": {}
        }
      ]
    },
    {
      "cell_type": "code",
      "source": [
        "plt.imshow(X_train[1] , cmap = 'Greys')"
      ],
      "metadata": {
        "id": "H-FtCaXWIt95",
        "outputId": "7344d5f1-a3de-4ce0-dbd3-d51d82c6285f",
        "colab": {
          "base_uri": "https://localhost:8080/",
          "height": 448
        }
      },
      "execution_count": 77,
      "outputs": [
        {
          "output_type": "execute_result",
          "data": {
            "text/plain": [
              "<matplotlib.image.AxesImage at 0x7864988155a0>"
            ]
          },
          "metadata": {},
          "execution_count": 77
        },
        {
          "output_type": "display_data",
          "data": {
            "text/plain": [
              "<Figure size 640x480 with 1 Axes>"
            ],
            "image/png": "[encoded data removed]"
          },
          "metadata": {}
        }
      ]
    },
    {
      "cell_type": "code",
      "source": [
        "y_test[1]"
      ],
      "metadata": {
        "id": "BfzAvnbKI59u",
        "outputId": "48e3ad1d-0132-4760-e633-9116269793f3",
        "colab": {
          "base_uri": "https://localhost:8080/"
        }
      },
      "execution_count": 78,
      "outputs": [
        {
          "output_type": "execute_result",
          "data": {
            "text/plain": [
              "2"
            ]
          },
          "metadata": {},
          "execution_count": 78
        }
      ]
    },
    {
      "cell_type": "code",
      "source": [
        "class_labels=['T-shirt/top','Trouser','Pullover','Dress','Coat','Sandal','Shirt','Sneaker','Bag','Ankle boot']"
      ],
      "metadata": {
        "id": "696hDo-mKRQE"
      },
      "execution_count": 79,
      "outputs": []
    },
    {
      "cell_type": "code",
      "source": [
        "# Showing Some Images\n",
        "\n",
        "plt.figure(figsize=(16,16))\n",
        "\n",
        "j=1\n",
        "for i in np.random.randint(0,1000,25):\n",
        "  plt.subplot(5,5,j); j+=1\n",
        "  plt.imshow(X_train[i], cmap='Greys')\n",
        "  plt.axis('off')\n",
        "  plt.title('{}/{}'.format(class_labels[y_train[i]],y_train[i]))"
      ],
      "metadata": {
        "id": "mbB8UHdkJCgx",
        "outputId": "ff80dffb-4303-434c-f04d-5d52e0469e41",
        "colab": {
          "base_uri": "https://localhost:8080/",
          "height": 654
        }
      },
      "execution_count": 80,
      "outputs": [
        {
          "output_type": "display_data",
          "data": {
            "text/plain": [
              "<Figure size 1600x1600 with 25 Axes>"
            ],
            "image/png": "[encoded data removed]"
          },
          "metadata": {}
        }
      ]
    },
    {
      "cell_type": "code",
      "source": [
        "X_train.ndim"
      ],
      "metadata": {
        "id": "FjwHNzT2KFv2",
        "outputId": "a15e2931-a033-49ec-d0d1-b66673f16180",
        "colab": {
          "base_uri": "https://localhost:8080/"
        }
      },
      "execution_count": 81,
      "outputs": [
        {
          "output_type": "execute_result",
          "data": {
            "text/plain": [
              "3"
            ]
          },
          "metadata": {},
          "execution_count": 81
        }
      ]
    },
    {
      "cell_type": "code",
      "source": [
        "X_train.shape"
      ],
      "metadata": {
        "id": "6asC3LTcNUkA",
        "outputId": "6173283e-689b-4e14-f1cc-1b189ca26357",
        "colab": {
          "base_uri": "https://localhost:8080/"
        }
      },
      "execution_count": 82,
      "outputs": [
        {
          "output_type": "execute_result",
          "data": {
            "text/plain": [
              "(60000, 28, 28)"
            ]
          },
          "metadata": {},
          "execution_count": 82
        }
      ]
    },
    {
      "cell_type": "code",
      "source": [
        "X_train=np.expand_dims(X_train,-1)\n",
        "X_test=np.expand_dims(X_test,-1)"
      ],
      "metadata": {
        "id": "CYm5umSWN6j1"
      },
      "execution_count": 83,
      "outputs": []
    },
    {
      "cell_type": "code",
      "source": [
        "X_train.ndim"
      ],
      "metadata": {
        "id": "esXdqsACOLz5",
        "outputId": "0b480f99-aad4-4a21-d75b-f63bcc66ef82",
        "colab": {
          "base_uri": "https://localhost:8080/"
        }
      },
      "execution_count": 84,
      "outputs": [
        {
          "output_type": "execute_result",
          "data": {
            "text/plain": [
              "4"
            ]
          },
          "metadata": {},
          "execution_count": 84
        }
      ]
    },
    {
      "cell_type": "code",
      "source": [
        "X_train.shape"
      ],
      "metadata": {
        "id": "GCTzwnyGORXR",
        "outputId": "e8a3ebd7-294b-4e4a-b348-de0e0a1f115e",
        "colab": {
          "base_uri": "https://localhost:8080/"
        }
      },
      "execution_count": 85,
      "outputs": [
        {
          "output_type": "execute_result",
          "data": {
            "text/plain": [
              "(60000, 28, 28, 1)"
            ]
          },
          "metadata": {},
          "execution_count": 85
        }
      ]
    },
    {
      "cell_type": "markdown",
      "source": [
        "# Feature Scaling"
      ],
      "metadata": {
        "id": "EvsLEQvZOvy5"
      }
    },
    {
      "cell_type": "code",
      "source": [
        "X_trian= X_train/255\n",
        "X_test= X_test/255"
      ],
      "metadata": {
        "id": "iECLZQNSO4Hk"
      },
      "execution_count": 86,
      "outputs": []
    },
    {
      "cell_type": "code",
      "source": [
        "X_train[0]"
      ],
      "metadata": {
        "id": "b2Guw39nPFIs",
        "outputId": "e623aeaa-9618-4323-8642-c734858d764c",
        "colab": {
          "base_uri": "https://localhost:8080/"
        }
      },
      "execution_count": 87,
      "outputs": [
        {
          "output_type": "execute_result",
          "data": {
            "text/plain": [
              "array([[[  0],\n",
              "        [  0],\n",
              "        [  0],\n",
              "        [  0],\n",
              "        [  0],\n",
              "        [  0],\n",
              "        [  0],\n",
              "        [  0],\n",
              "        [  0],\n",
              "        [  0],\n",
              "        [  0],\n",
              "        [  0],\n",
              "        [  0],\n",
              "        [  0],\n",
              "        [  0],\n",
              "        [  0],\n",
              "        [  0],\n",
              "        [  0],\n",
              "        [  0],\n",
              "        [  0],\n",
              "        [  0],\n",
              "        [  0],\n",
              "        [  0],\n",
              "        [  0],\n",
              "        [  0],\n",
              "        [  0],\n",
              "        [  0],\n",
              "        [  0]],\n",
              "\n",
              "       [[  0],\n",
              "        [  0],\n",
              "        [  0],\n",
              "        [  0],\n",
              "        [  0],\n",
              "        [  0],\n",
              "        [  0],\n",
              "        [  0],\n",
              "        [  0],\n",
              "        [  0],\n",
              "        [  0],\n",
              "        [  0],\n",
              "        [  0],\n",
              "        [  0],\n",
              "        [  0],\n",
              "        [  0],\n",
              "        [  0],\n",
              "        [  0],\n",
              "        [  0],\n",
              "        [  0],\n",
              "        [  0],\n",
              "        [  0],\n",
              "        [  0],\n",
              "        [  0],\n",
              "        [  0],\n",
              "        [  0],\n",
              "        [  0],\n",
              "        [  0]],\n",
              "\n",
              "       [[  0],\n",
              "        [  0],\n",
              "        [  0],\n",
              "        [  0],\n",
              "        [  0],\n",
              "        [  0],\n",
              "        [  0],\n",
              "        [  0],\n",
              "        [  0],\n",
              "        [  0],\n",
              "        [  0],\n",
              "        [  0],\n",
              "        [  0],\n",
              "        [  0],\n",
              "        [  0],\n",
              "        [  0],\n",
              "        [  0],\n",
              "        [  0],\n",
              "        [  0],\n",
              "        [  0],\n",
              "        [  0],\n",
              "        [  0],\n",
              "        [  0],\n",
              "        [  0],\n",
              "        [  0],\n",
              "        [  0],\n",
              "        [  0],\n",
              "        [  0]],\n",
              "\n",
              "       [[  0],\n",
              "        [  0],\n",
              "        [  0],\n",
              "        [  0],\n",
              "        [  0],\n",
              "        [  0],\n",
              "        [  0],\n",
              "        [  0],\n",
              "        [  0],\n",
              "        [  0],\n",
              "        [  0],\n",
              "        [  0],\n",
              "        [  1],\n",
              "        [  0],\n",
              "        [  0],\n",
              "        [ 13],\n",
              "        [ 73],\n",
              "        [  0],\n",
              "        [  0],\n",
              "        [  1],\n",
              "        [  4],\n",
              "        [  0],\n",
              "        [  0],\n",
              "        [  0],\n",
              "        [  0],\n",
              "        [  1],\n",
              "        [  1],\n",
              "        [  0]],\n",
              "\n",
              "       [[  0],\n",
              "        [  0],\n",
              "        [  0],\n",
              "        [  0],\n",
              "        [  0],\n",
              "        [  0],\n",
              "        [  0],\n",
              "        [  0],\n",
              "        [  0],\n",
              "        [  0],\n",
              "        [  0],\n",
              "        [  0],\n",
              "        [  3],\n",
              "        [  0],\n",
              "        [ 36],\n",
              "        [136],\n",
              "        [127],\n",
              "        [ 62],\n",
              "        [ 54],\n",
              "        [  0],\n",
              "        [  0],\n",
              "        [  0],\n",
              "        [  1],\n",
              "        [  3],\n",
              "        [  4],\n",
              "        [  0],\n",
              "        [  0],\n",
              "        [  3]],\n",
              "\n",
              "       [[  0],\n",
              "        [  0],\n",
              "        [  0],\n",
              "        [  0],\n",
              "        [  0],\n",
              "        [  0],\n",
              "        [  0],\n",
              "        [  0],\n",
              "        [  0],\n",
              "        [  0],\n",
              "        [  0],\n",
              "        [  0],\n",
              "        [  6],\n",
              "        [  0],\n",
              "        [102],\n",
              "        [204],\n",
              "        [176],\n",
              "        [134],\n",
              "        [144],\n",
              "        [123],\n",
              "        [ 23],\n",
              "        [  0],\n",
              "        [  0],\n",
              "        [  0],\n",
              "        [  0],\n",
              "        [ 12],\n",
              "        [ 10],\n",
              "        [  0]],\n",
              "\n",
              "       [[  0],\n",
              "        [  0],\n",
              "        [  0],\n",
              "        [  0],\n",
              "        [  0],\n",
              "        [  0],\n",
              "        [  0],\n",
              "        [  0],\n",
              "        [  0],\n",
              "        [  0],\n",
              "        [  0],\n",
              "        [  0],\n",
              "        [  0],\n",
              "        [  0],\n",
              "        [155],\n",
              "        [236],\n",
              "        [207],\n",
              "        [178],\n",
              "        [107],\n",
              "        [156],\n",
              "        [161],\n",
              "        [109],\n",
              "        [ 64],\n",
              "        [ 23],\n",
              "        [ 77],\n",
              "        [130],\n",
              "        [ 72],\n",
              "        [ 15]],\n",
              "\n",
              "       [[  0],\n",
              "        [  0],\n",
              "        [  0],\n",
              "        [  0],\n",
              "        [  0],\n",
              "        [  0],\n",
              "        [  0],\n",
              "        [  0],\n",
              "        [  0],\n",
              "        [  0],\n",
              "        [  0],\n",
              "        [  1],\n",
              "        [  0],\n",
              "        [ 69],\n",
              "        [207],\n",
              "        [223],\n",
              "        [218],\n",
              "        [216],\n",
              "        [216],\n",
              "        [163],\n",
              "        [127],\n",
              "        [121],\n",
              "        [122],\n",
              "        [146],\n",
              "        [141],\n",
              "        [ 88],\n",
              "        [172],\n",
              "        [ 66]],\n",
              "\n",
              "       [[  0],\n",
              "        [  0],\n",
              "        [  0],\n",
              "        [  0],\n",
              "        [  0],\n",
              "        [  0],\n",
              "        [  0],\n",
              "        [  0],\n",
              "        [  0],\n",
              "        [  1],\n",
              "        [  1],\n",
              "        [  1],\n",
              "        [  0],\n",
              "        [200],\n",
              "        [232],\n",
              "        [232],\n",
              "        [233],\n",
              "        [229],\n",
              "        [223],\n",
              "        [223],\n",
              "        [215],\n",
              "        [213],\n",
              "        [164],\n",
              "        [127],\n",
              "        [123],\n",
              "        [196],\n",
              "        [229],\n",
              "        [  0]],\n",
              "\n",
              "       [[  0],\n",
              "        [  0],\n",
              "        [  0],\n",
              "        [  0],\n",
              "        [  0],\n",
              "        [  0],\n",
              "        [  0],\n",
              "        [  0],\n",
              "        [  0],\n",
              "        [  0],\n",
              "        [  0],\n",
              "        [  0],\n",
              "        [  0],\n",
              "        [183],\n",
              "        [225],\n",
              "        [216],\n",
              "        [223],\n",
              "        [228],\n",
              "        [235],\n",
              "        [227],\n",
              "        [224],\n",
              "        [222],\n",
              "        [224],\n",
              "        [221],\n",
              "        [223],\n",
              "        [245],\n",
              "        [173],\n",
              "        [  0]],\n",
              "\n",
              "       [[  0],\n",
              "        [  0],\n",
              "        [  0],\n",
              "        [  0],\n",
              "        [  0],\n",
              "        [  0],\n",
              "        [  0],\n",
              "        [  0],\n",
              "        [  0],\n",
              "        [  0],\n",
              "        [  0],\n",
              "        [  0],\n",
              "        [  0],\n",
              "        [193],\n",
              "        [228],\n",
              "        [218],\n",
              "        [213],\n",
              "        [198],\n",
              "        [180],\n",
              "        [212],\n",
              "        [210],\n",
              "        [211],\n",
              "        [213],\n",
              "        [223],\n",
              "        [220],\n",
              "        [243],\n",
              "        [202],\n",
              "        [  0]],\n",
              "\n",
              "       [[  0],\n",
              "        [  0],\n",
              "        [  0],\n",
              "        [  0],\n",
              "        [  0],\n",
              "        [  0],\n",
              "        [  0],\n",
              "        [  0],\n",
              "        [  0],\n",
              "        [  1],\n",
              "        [  3],\n",
              "        [  0],\n",
              "        [ 12],\n",
              "        [219],\n",
              "        [220],\n",
              "        [212],\n",
              "        [218],\n",
              "        [192],\n",
              "        [169],\n",
              "        [227],\n",
              "        [208],\n",
              "        [218],\n",
              "        [224],\n",
              "        [212],\n",
              "        [226],\n",
              "        [197],\n",
              "        [209],\n",
              "        [ 52]],\n",
              "\n",
              "       [[  0],\n",
              "        [  0],\n",
              "        [  0],\n",
              "        [  0],\n",
              "        [  0],\n",
              "        [  0],\n",
              "        [  0],\n",
              "        [  0],\n",
              "        [  0],\n",
              "        [  0],\n",
              "        [  6],\n",
              "        [  0],\n",
              "        [ 99],\n",
              "        [244],\n",
              "        [222],\n",
              "        [220],\n",
              "        [218],\n",
              "        [203],\n",
              "        [198],\n",
              "        [221],\n",
              "        [215],\n",
              "        [213],\n",
              "        [222],\n",
              "        [220],\n",
              "        [245],\n",
              "        [119],\n",
              "        [167],\n",
              "        [ 56]],\n",
              "\n",
              "       [[  0],\n",
              "        [  0],\n",
              "        [  0],\n",
              "        [  0],\n",
              "        [  0],\n",
              "        [  0],\n",
              "        [  0],\n",
              "        [  0],\n",
              "        [  0],\n",
              "        [  4],\n",
              "        [  0],\n",
              "        [  0],\n",
              "        [ 55],\n",
              "        [236],\n",
              "        [228],\n",
              "        [230],\n",
              "        [228],\n",
              "        [240],\n",
              "        [232],\n",
              "        [213],\n",
              "        [218],\n",
              "        [223],\n",
              "        [234],\n",
              "        [217],\n",
              "        [217],\n",
              "        [209],\n",
              "        [ 92],\n",
              "        [  0]],\n",
              "\n",
              "       [[  0],\n",
              "        [  0],\n",
              "        [  1],\n",
              "        [  4],\n",
              "        [  6],\n",
              "        [  7],\n",
              "        [  2],\n",
              "        [  0],\n",
              "        [  0],\n",
              "        [  0],\n",
              "        [  0],\n",
              "        [  0],\n",
              "        [237],\n",
              "        [226],\n",
              "        [217],\n",
              "        [223],\n",
              "        [222],\n",
              "        [219],\n",
              "        [222],\n",
              "        [221],\n",
              "        [216],\n",
              "        [223],\n",
              "        [229],\n",
              "        [215],\n",
              "        [218],\n",
              "        [255],\n",
              "        [ 77],\n",
              "        [  0]],\n",
              "\n",
              "       [[  0],\n",
              "        [  3],\n",
              "        [  0],\n",
              "        [  0],\n",
              "        [  0],\n",
              "        [  0],\n",
              "        [  0],\n",
              "        [  0],\n",
              "        [  0],\n",
              "        [ 62],\n",
              "        [145],\n",
              "        [204],\n",
              "        [228],\n",
              "        [207],\n",
              "        [213],\n",
              "        [221],\n",
              "        [218],\n",
              "        [208],\n",
              "        [211],\n",
              "        [218],\n",
              "        [224],\n",
              "        [223],\n",
              "        [219],\n",
              "        [215],\n",
              "        [224],\n",
              "        [244],\n",
              "        [159],\n",
              "        [  0]],\n",
              "\n",
              "       [[  0],\n",
              "        [  0],\n",
              "        [  0],\n",
              "        [  0],\n",
              "        [ 18],\n",
              "        [ 44],\n",
              "        [ 82],\n",
              "        [107],\n",
              "        [189],\n",
              "        [228],\n",
              "        [220],\n",
              "        [222],\n",
              "        [217],\n",
              "        [226],\n",
              "        [200],\n",
              "        [205],\n",
              "        [211],\n",
              "        [230],\n",
              "        [224],\n",
              "        [234],\n",
              "        [176],\n",
              "        [188],\n",
              "        [250],\n",
              "        [248],\n",
              "        [233],\n",
              "        [238],\n",
              "        [215],\n",
              "        [  0]],\n",
              "\n",
              "       [[  0],\n",
              "        [ 57],\n",
              "        [187],\n",
              "        [208],\n",
              "        [224],\n",
              "        [221],\n",
              "        [224],\n",
              "        [208],\n",
              "        [204],\n",
              "        [214],\n",
              "        [208],\n",
              "        [209],\n",
              "        [200],\n",
              "        [159],\n",
              "        [245],\n",
              "        [193],\n",
              "        [206],\n",
              "        [223],\n",
              "        [255],\n",
              "        [255],\n",
              "        [221],\n",
              "        [234],\n",
              "        [221],\n",
              "        [211],\n",
              "        [220],\n",
              "        [232],\n",
              "        [246],\n",
              "        [  0]],\n",
              "\n",
              "       [[  3],\n",
              "        [202],\n",
              "        [228],\n",
              "        [224],\n",
              "        [221],\n",
              "        [211],\n",
              "        [211],\n",
              "        [214],\n",
              "        [205],\n",
              "        [205],\n",
              "        [205],\n",
              "        [220],\n",
              "        [240],\n",
              "        [ 80],\n",
              "        [150],\n",
              "        [255],\n",
              "        [229],\n",
              "        [221],\n",
              "        [188],\n",
              "        [154],\n",
              "        [191],\n",
              "        [210],\n",
              "        [204],\n",
              "        [209],\n",
              "        [222],\n",
              "        [228],\n",
              "        [225],\n",
              "        [  0]],\n",
              "\n",
              "       [[ 98],\n",
              "        [233],\n",
              "        [198],\n",
              "        [210],\n",
              "        [222],\n",
              "        [229],\n",
              "        [229],\n",
              "        [234],\n",
              "        [249],\n",
              "        [220],\n",
              "        [194],\n",
              "        [215],\n",
              "        [217],\n",
              "        [241],\n",
              "        [ 65],\n",
              "        [ 73],\n",
              "        [106],\n",
              "        [117],\n",
              "        [168],\n",
              "        [219],\n",
              "        [221],\n",
              "        [215],\n",
              "        [217],\n",
              "        [223],\n",
              "        [223],\n",
              "        [224],\n",
              "        [229],\n",
              "        [ 29]],\n",
              "\n",
              "       [[ 75],\n",
              "        [204],\n",
              "        [212],\n",
              "        [204],\n",
              "        [193],\n",
              "        [205],\n",
              "        [211],\n",
              "        [225],\n",
              "        [216],\n",
              "        [185],\n",
              "        [197],\n",
              "        [206],\n",
              "        [198],\n",
              "        [213],\n",
              "        [240],\n",
              "        [195],\n",
              "        [227],\n",
              "        [245],\n",
              "        [239],\n",
              "        [223],\n",
              "        [218],\n",
              "        [212],\n",
              "        [209],\n",
              "        [222],\n",
              "        [220],\n",
              "        [221],\n",
              "        [230],\n",
              "        [ 67]],\n",
              "\n",
              "       [[ 48],\n",
              "        [203],\n",
              "        [183],\n",
              "        [194],\n",
              "        [213],\n",
              "        [197],\n",
              "        [185],\n",
              "        [190],\n",
              "        [194],\n",
              "        [192],\n",
              "        [202],\n",
              "        [214],\n",
              "        [219],\n",
              "        [221],\n",
              "        [220],\n",
              "        [236],\n",
              "        [225],\n",
              "        [216],\n",
              "        [199],\n",
              "        [206],\n",
              "        [186],\n",
              "        [181],\n",
              "        [177],\n",
              "        [172],\n",
              "        [181],\n",
              "        [205],\n",
              "        [206],\n",
              "        [115]],\n",
              "\n",
              "       [[  0],\n",
              "        [122],\n",
              "        [219],\n",
              "        [193],\n",
              "        [179],\n",
              "        [171],\n",
              "        [183],\n",
              "        [196],\n",
              "        [204],\n",
              "        [210],\n",
              "        [213],\n",
              "        [207],\n",
              "        [211],\n",
              "        [210],\n",
              "        [200],\n",
              "        [196],\n",
              "        [194],\n",
              "        [191],\n",
              "        [195],\n",
              "        [191],\n",
              "        [198],\n",
              "        [192],\n",
              "        [176],\n",
              "        [156],\n",
              "        [167],\n",
              "        [177],\n",
              "        [210],\n",
              "        [ 92]],\n",
              "\n",
              "       [[  0],\n",
              "        [  0],\n",
              "        [ 74],\n",
              "        [189],\n",
              "        [212],\n",
              "        [191],\n",
              "        [175],\n",
              "        [172],\n",
              "        [175],\n",
              "        [181],\n",
              "        [185],\n",
              "        [188],\n",
              "        [189],\n",
              "        [188],\n",
              "        [193],\n",
              "        [198],\n",
              "        [204],\n",
              "        [209],\n",
              "        [210],\n",
              "        [210],\n",
              "        [211],\n",
              "        [188],\n",
              "        [188],\n",
              "        [194],\n",
              "        [192],\n",
              "        [216],\n",
              "        [170],\n",
              "        [  0]],\n",
              "\n",
              "       [[  2],\n",
              "        [  0],\n",
              "        [  0],\n",
              "        [  0],\n",
              "        [ 66],\n",
              "        [200],\n",
              "        [222],\n",
              "        [237],\n",
              "        [239],\n",
              "        [242],\n",
              "        [246],\n",
              "        [243],\n",
              "        [244],\n",
              "        [221],\n",
              "        [220],\n",
              "        [193],\n",
              "        [191],\n",
              "        [179],\n",
              "        [182],\n",
              "        [182],\n",
              "        [181],\n",
              "        [176],\n",
              "        [166],\n",
              "        [168],\n",
              "        [ 99],\n",
              "        [ 58],\n",
              "        [  0],\n",
              "        [  0]],\n",
              "\n",
              "       [[  0],\n",
              "        [  0],\n",
              "        [  0],\n",
              "        [  0],\n",
              "        [  0],\n",
              "        [  0],\n",
              "        [  0],\n",
              "        [ 40],\n",
              "        [ 61],\n",
              "        [ 44],\n",
              "        [ 72],\n",
              "        [ 41],\n",
              "        [ 35],\n",
              "        [  0],\n",
              "        [  0],\n",
              "        [  0],\n",
              "        [  0],\n",
              "        [  0],\n",
              "        [  0],\n",
              "        [  0],\n",
              "        [  0],\n",
              "        [  0],\n",
              "        [  0],\n",
              "        [  0],\n",
              "        [  0],\n",
              "        [  0],\n",
              "        [  0],\n",
              "        [  0]],\n",
              "\n",
              "       [[  0],\n",
              "        [  0],\n",
              "        [  0],\n",
              "        [  0],\n",
              "        [  0],\n",
              "        [  0],\n",
              "        [  0],\n",
              "        [  0],\n",
              "        [  0],\n",
              "        [  0],\n",
              "        [  0],\n",
              "        [  0],\n",
              "        [  0],\n",
              "        [  0],\n",
              "        [  0],\n",
              "        [  0],\n",
              "        [  0],\n",
              "        [  0],\n",
              "        [  0],\n",
              "        [  0],\n",
              "        [  0],\n",
              "        [  0],\n",
              "        [  0],\n",
              "        [  0],\n",
              "        [  0],\n",
              "        [  0],\n",
              "        [  0],\n",
              "        [  0]],\n",
              "\n",
              "       [[  0],\n",
              "        [  0],\n",
              "        [  0],\n",
              "        [  0],\n",
              "        [  0],\n",
              "        [  0],\n",
              "        [  0],\n",
              "        [  0],\n",
              "        [  0],\n",
              "        [  0],\n",
              "        [  0],\n",
              "        [  0],\n",
              "        [  0],\n",
              "        [  0],\n",
              "        [  0],\n",
              "        [  0],\n",
              "        [  0],\n",
              "        [  0],\n",
              "        [  0],\n",
              "        [  0],\n",
              "        [  0],\n",
              "        [  0],\n",
              "        [  0],\n",
              "        [  0],\n",
              "        [  0],\n",
              "        [  0],\n",
              "        [  0],\n",
              "        [  0]]], dtype=uint8)"
            ]
          },
          "metadata": {},
          "execution_count": 87
        }
      ]
    },
    {
      "cell_type": "markdown",
      "source": [
        "**Split Dataset**"
      ],
      "metadata": {
        "id": "l3wqcJlgPk0N"
      }
    },
    {
      "cell_type": "code",
      "source": [
        "from sklearn.model_selection import train_test_split"
      ],
      "metadata": {
        "id": "ffiawY-JPpB6"
      },
      "execution_count": 88,
      "outputs": []
    },
    {
      "cell_type": "code",
      "source": [
        "X_train,X_test,y_train,y_test=train_test_split(X_train,y_train,test_size=0.2,random_state=2020)"
      ],
      "metadata": {
        "id": "Ya5JprbfQAXg"
      },
      "execution_count": 89,
      "outputs": []
    },
    {
      "cell_type": "code",
      "source": [
        "X_train.shape"
      ],
      "metadata": {
        "id": "7AnF2NsTQRnP",
        "outputId": "8ef172f3-1269-4478-a33d-74297a3b67c0",
        "colab": {
          "base_uri": "https://localhost:8080/"
        }
      },
      "execution_count": 90,
      "outputs": [
        {
          "output_type": "execute_result",
          "data": {
            "text/plain": [
              "(48000, 28, 28, 1)"
            ]
          },
          "metadata": {},
          "execution_count": 90
        }
      ]
    },
    {
      "cell_type": "code",
      "source": [
        "X_test.shape"
      ],
      "metadata": {
        "id": "Wxx-KjOYQX-h",
        "outputId": "eb57a20b-bf38-4e4d-8690-510a1388ca89",
        "colab": {
          "base_uri": "https://localhost:8080/"
        }
      },
      "execution_count": 91,
      "outputs": [
        {
          "output_type": "execute_result",
          "data": {
            "text/plain": [
              "(12000, 28, 28, 1)"
            ]
          },
          "metadata": {},
          "execution_count": 91
        }
      ]
    },
    {
      "cell_type": "markdown",
      "source": [
        "Convolutional Neural Network-Model Building"
      ],
      "metadata": {
        "id": "3zmlWi0IQo7y"
      }
    },
    {
      "cell_type": "code",
      "source": [
        "import tensorflow as tf\n",
        "from tensorflow import keras"
      ],
      "metadata": {
        "id": "9cOUKTPuQ3dh"
      },
      "execution_count": 93,
      "outputs": []
    },
    {
      "cell_type": "code",
      "source": [
        "model=keras.Sequential([\n",
        "    keras.layers.Conv2D(filters=32,kernel_size=3,strides=(1,1),padding='valid',activation='relu',input_shape=[28,28,1]),\n",
        "    keras.layers.MaxPooling2D(pool_size=(2,2)),\n",
        "    keras.layers.Flatten(),\n",
        "    keras.layers.Dense(128,activation='relu'),\n",
        "    keras.layers.Dense(10,activation='softmax')\n",
        "])"
      ],
      "metadata": {
        "id": "h8b59mejbnh9"
      },
      "execution_count": 94,
      "outputs": []
    },
    {
      "cell_type": "code",
      "source": [
        "model.summary()"
      ],
      "metadata": {
        "id": "qQ4h6eJmdBbt",
        "outputId": "b7214f1a-184e-464a-b941-c63870b9edad",
        "colab": {
          "base_uri": "https://localhost:8080/"
        }
      },
      "execution_count": 95,
      "outputs": [
        {
          "output_type": "stream",
          "name": "stdout",
          "text": [
            "Model: \"sequential_1\"\n",
            "_________________________________________________________________\n",
            " Layer (type)                Output Shape              Param #   \n",
            "=================================================================\n",
            " conv2d_2 (Conv2D)           (None, 26, 26, 32)        320       \n",
            "                                                                 \n",
            " max_pooling2d_2 (MaxPoolin  (None, 13, 13, 32)        0         \n",
            " g2D)                                                            \n",
            "                                                                 \n",
            " flatten_1 (Flatten)         (None, 5408)              0         \n",
            "                                                                 \n",
            " dense_2 (Dense)             (None, 128)               692352    \n",
            "                                                                 \n",
            " dense_3 (Dense)             (None, 10)                1290      \n",
            "                                                                 \n",
            "=================================================================\n",
            "Total params: 693962 (2.65 MB)\n",
            "Trainable params: 693962 (2.65 MB)\n",
            "Non-trainable params: 0 (0.00 Byte)\n",
            "_________________________________________________________________\n"
          ]
        }
      ]
    },
    {
      "cell_type": "code",
      "source": [
        "model.compile(optimizer='adam',\n",
        "              loss='sparse_categorical_crossentropy',\n",
        "              metrics=['accuracy'])"
      ],
      "metadata": {
        "id": "xXaMlWQxdoJ_"
      },
      "execution_count": 96,
      "outputs": []
    },
    {
      "cell_type": "code",
      "source": [
        "model.fit(X_train,y_train,epochs=10,batch_size=512,verbose=1)"
      ],
      "metadata": {
        "id": "Dnva0O6EeCWx",
        "outputId": "134b4154-54f7-40a1-e8c1-f44dad90bb0e",
        "colab": {
          "base_uri": "https://localhost:8080/"
        }
      },
      "execution_count": 98,
      "outputs": [
        {
          "output_type": "stream",
          "name": "stdout",
          "text": [
            "Epoch 1/10\n",
            "94/94 [==============================] - 20s 216ms/step - loss: 0.7887 - accuracy: 0.8390\n",
            "Epoch 2/10\n",
            "94/94 [==============================] - 19s 206ms/step - loss: 0.4953 - accuracy: 0.8655\n",
            "Epoch 3/10\n",
            "94/94 [==============================] - 20s 218ms/step - loss: 0.3915 - accuracy: 0.8834\n",
            "Epoch 4/10\n",
            "94/94 [==============================] - 19s 199ms/step - loss: 0.3357 - accuracy: 0.8950\n",
            "Epoch 5/10\n",
            "94/94 [==============================] - 20s 214ms/step - loss: 0.2734 - accuracy: 0.9089\n",
            "Epoch 6/10\n",
            "94/94 [==============================] - 19s 205ms/step - loss: 0.2511 - accuracy: 0.9161\n",
            "Epoch 7/10\n",
            "94/94 [==============================] - 20s 213ms/step - loss: 0.2425 - accuracy: 0.9181\n",
            "Epoch 8/10\n",
            "94/94 [==============================] - 19s 203ms/step - loss: 0.2039 - accuracy: 0.9282\n",
            "Epoch 9/10\n",
            "94/94 [==============================] - 20s 213ms/step - loss: 0.1825 - accuracy: 0.9354\n",
            "Epoch 10/10\n",
            "94/94 [==============================] - 20s 216ms/step - loss: 0.1701 - accuracy: 0.9395\n"
          ]
        },
        {
          "output_type": "execute_result",
          "data": {
            "text/plain": [
              "<keras.src.callbacks.History at 0x7864957f1090>"
            ]
          },
          "metadata": {},
          "execution_count": 98
        }
      ]
    },
    {
      "cell_type": "markdown",
      "source": [
        "# Testing The Model"
      ],
      "metadata": {
        "id": "NvoWCFAYgiYV"
      }
    },
    {
      "cell_type": "code",
      "source": [
        "model.predict(np.expand_dims(X_test[0],axis=0)).round(2)"
      ],
      "metadata": {
        "id": "emn3-DYwgo57",
        "outputId": "f54f4392-2a23-4c1e-f6c3-2570eb41d096",
        "colab": {
          "base_uri": "https://localhost:8080/"
        }
      },
      "execution_count": 99,
      "outputs": [
        {
          "output_type": "stream",
          "name": "stdout",
          "text": [
            "1/1 [==============================] - 0s 64ms/step\n"
          ]
        },
        {
          "output_type": "execute_result",
          "data": {
            "text/plain": [
              "array([[1., 0., 0., 0., 0., 0., 0., 0., 0., 0.]], dtype=float32)"
            ]
          },
          "metadata": {},
          "execution_count": 99
        }
      ]
    },
    {
      "cell_type": "code",
      "source": [
        "np.argmax(model.predict(np.expand_dims(X_test[0],axis=0)).round(2))"
      ],
      "metadata": {
        "id": "NKsQ9wpzhJ2k",
        "outputId": "91bd9ac9-3321-45ee-dc61-2b82999735ba",
        "colab": {
          "base_uri": "https://localhost:8080/"
        }
      },
      "execution_count": 100,
      "outputs": [
        {
          "output_type": "stream",
          "name": "stdout",
          "text": [
            "1/1 [==============================] - 0s 22ms/step\n"
          ]
        },
        {
          "output_type": "execute_result",
          "data": {
            "text/plain": [
              "0"
            ]
          },
          "metadata": {},
          "execution_count": 100
        }
      ]
    },
    {
      "cell_type": "code",
      "source": [
        "y_test[0]"
      ],
      "metadata": {
        "id": "a2UKApxwhdPf",
        "outputId": "95e7b5a6-d9f8-4ddc-e919-20a2f866ed18",
        "colab": {
          "base_uri": "https://localhost:8080/"
        }
      },
      "execution_count": 101,
      "outputs": [
        {
          "output_type": "execute_result",
          "data": {
            "text/plain": [
              "0"
            ]
          },
          "metadata": {},
          "execution_count": 101
        }
      ]
    },
    {
      "cell_type": "code",
      "source": [
        "y_pred=model.predict(X_test).round(2)"
      ],
      "metadata": {
        "id": "-L50Gr-zhlGg",
        "outputId": "954f2ce7-6d3a-4846-f2c6-f6612d9816fd",
        "colab": {
          "base_uri": "https://localhost:8080/"
        }
      },
      "execution_count": 102,
      "outputs": [
        {
          "output_type": "stream",
          "name": "stdout",
          "text": [
            "375/375 [==============================] - 2s 5ms/step\n"
          ]
        }
      ]
    },
    {
      "cell_type": "code",
      "source": [
        "y_pred"
      ],
      "metadata": {
        "id": "PB2w17Oyh_Ji",
        "outputId": "5cb2af54-8507-43b8-c04a-1a46c02bf74f",
        "colab": {
          "base_uri": "https://localhost:8080/"
        }
      },
      "execution_count": 103,
      "outputs": [
        {
          "output_type": "execute_result",
          "data": {
            "text/plain": [
              "array([[1.  , 0.  , 0.  , ..., 0.  , 0.  , 0.  ],\n",
              "       [0.  , 0.  , 0.  , ..., 0.  , 0.  , 0.  ],\n",
              "       [0.  , 0.  , 0.02, ..., 0.  , 0.  , 0.  ],\n",
              "       ...,\n",
              "       [0.  , 0.  , 0.  , ..., 0.  , 0.  , 1.  ],\n",
              "       [0.  , 1.  , 0.  , ..., 0.  , 0.  , 0.  ],\n",
              "       [0.  , 0.  , 0.  , ..., 0.  , 0.  , 0.  ]], dtype=float32)"
            ]
          },
          "metadata": {},
          "execution_count": 103
        }
      ]
    },
    {
      "cell_type": "code",
      "source": [
        "model.evaluate(X_test,y_test)"
      ],
      "metadata": {
        "id": "90qBdBDmiD5R",
        "outputId": "44108637-ba30-4f0f-8049-94eaaea829e6",
        "colab": {
          "base_uri": "https://localhost:8080/"
        }
      },
      "execution_count": 104,
      "outputs": [
        {
          "output_type": "stream",
          "name": "stdout",
          "text": [
            "375/375 [==============================] - 2s 6ms/step - loss: 0.4181 - accuracy: 0.8890\n"
          ]
        },
        {
          "output_type": "execute_result",
          "data": {
            "text/plain": [
              "[0.41809192299842834, 0.8889999985694885]"
            ]
          },
          "metadata": {},
          "execution_count": 104
        }
      ]
    },
    {
      "cell_type": "code",
      "source": [
        "from sklearn.metrics import confusion_matrix"
      ],
      "metadata": {
        "id": "mJLZx4JbiOP5"
      },
      "execution_count": 105,
      "outputs": []
    },
    {
      "cell_type": "code",
      "source": [
        "plt.figure(figsize=(16,9))\n",
        "y_pred_labels=[np.argmax(label) for label in y_pred]\n",
        "cm=confusion_matrix(y_test,y_pred_labels)\n",
        "\n",
        "sns.heatmap(cm,annot=True,fmt='d',xticklabels=class_labels,yticklabels=class_labels)"
      ],
      "metadata": {
        "id": "QcMkkOGZivrI",
        "outputId": "836f101c-e369-4997-ef15-e13afce00d34",
        "colab": {
          "base_uri": "https://localhost:8080/",
          "height": 429
        }
      },
      "execution_count": 106,
      "outputs": [
        {
          "output_type": "execute_result",
          "data": {
            "text/plain": [
              "<Axes: >"
            ]
          },
          "metadata": {},
          "execution_count": 106
        },
        {
          "output_type": "display_data",
          "data": {
            "text/plain": [
              "<Figure size 1600x900 with 2 Axes>"
            ],
            "image/png": "[encoded data removed]"
          },
          "metadata": {}
        }
      ]
    },
    {
      "cell_type": "code",
      "source": [
        "from sklearn.metrics import classification_report\n",
        "\n",
        "report = classification_report(y_test, y_pred_labels, output_dict=True,target_names=class_labels)\n",
        "\n",
        "report\n"
      ],
      "metadata": {
        "id": "9CK4975llq_N",
        "outputId": "c7094196-a2f2-4945-e744-eb91261a399c",
        "colab": {
          "base_uri": "https://localhost:8080/"
        }
      },
      "execution_count": 107,
      "outputs": [
        {
          "output_type": "execute_result",
          "data": {
            "text/plain": [
              "{'T-shirt/top': {'precision': 0.8502127659574468,\n",
              "  'recall': 0.8121951219512196,\n",
              "  'f1-score': 0.8307692307692307,\n",
              "  'support': 1230},\n",
              " 'Trouser': {'precision': 0.9855072463768116,\n",
              "  'recall': 0.9714285714285714,\n",
              "  'f1-score': 0.9784172661870504,\n",
              "  'support': 1190},\n",
              " 'Pullover': {'precision': 0.9053069719042663,\n",
              "  'recall': 0.71900826446281,\n",
              "  'f1-score': 0.8014739751266697,\n",
              "  'support': 1210},\n",
              " 'Dress': {'precision': 0.8841607565011821,\n",
              "  'recall': 0.908502024291498,\n",
              "  'f1-score': 0.8961661341853034,\n",
              "  'support': 1235},\n",
              " 'Coat': {'precision': 0.7633426966292135,\n",
              "  'recall': 0.914983164983165,\n",
              "  'f1-score': 0.8323124042879021,\n",
              "  'support': 1188},\n",
              " 'Sandal': {'precision': 0.966321243523316,\n",
              "  'recall': 0.9679930795847751,\n",
              "  'f1-score': 0.9671564390665516,\n",
              "  'support': 1156},\n",
              " 'Shirt': {'precision': 0.6838760921366164,\n",
              "  'recall': 0.7396907216494846,\n",
              "  'f1-score': 0.7106892282294677,\n",
              "  'support': 1164},\n",
              " 'Sneaker': {'precision': 0.9612141652613828,\n",
              "  'recall': 0.9359605911330049,\n",
              "  'f1-score': 0.9484193011647255,\n",
              "  'support': 1218},\n",
              " 'Bag': {'precision': 0.988135593220339,\n",
              "  'recall': 0.9510603588907015,\n",
              "  'f1-score': 0.969243557772236,\n",
              "  'support': 1226},\n",
              " 'Ankle boot': {'precision': 0.945679012345679,\n",
              "  'recall': 0.9712595097210481,\n",
              "  'f1-score': 0.958298582151793,\n",
              "  'support': 1183},\n",
              " 'accuracy': 0.8890833333333333,\n",
              " 'macro avg': {'precision': 0.8933756543856253,\n",
              "  'recall': 0.8892081408096277,\n",
              "  'f1-score': 0.889294611894093,\n",
              "  'support': 12000},\n",
              " 'weighted avg': {'precision': 0.8938980758446754,\n",
              "  'recall': 0.8890833333333333,\n",
              "  'f1-score': 0.8894923467564911,\n",
              "  'support': 12000}}"
            ]
          },
          "metadata": {},
          "execution_count": 107
        }
      ]
    },
    {
      "cell_type": "code",
      "source": [
        "model.save('fashion_classification_cnn_model')"
      ],
      "metadata": {
        "id": "IjBu6F6SnsC-"
      },
      "execution_count": 66,
      "outputs": []
    },
    {
      "cell_type": "code",
      "source": [],
      "metadata": {
        "id": "ZTr6ZFtHopQD"
      },
      "execution_count": null,
      "outputs": []
    }
  ],
  "metadata": {
    "colab": {
      "name": "Welcome To Colaboratory",
      "provenance": [],
      "include_colab_link": true
    },
    "kernelspec": {
      "display_name": "Python 3",
      "name": "python3"
    }
  },
  "nbformat": 4,
  "nbformat_minor": 0
}